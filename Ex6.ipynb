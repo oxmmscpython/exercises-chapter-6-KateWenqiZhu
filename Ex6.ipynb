{
 "cells": [
  {
   "cell_type": "code",
   "execution_count": 227,
   "metadata": {},
   "outputs": [],
   "source": [
    "class ConvergenceError(Exception):\n",
    "    \"\"\"Exception raised if a solver fails to converge.\"\"\"\n",
    "\n",
    "    pass\n",
    "\n",
    "\n",
    "def newton_raphson(f, df, x_0, eps, max_its):\n",
    "    \n",
    "    \"\"\"Solve a nonlinear equation using Newton-Raphson iteration.\n",
    "\n",
    "    Solve f==0 using Newton-Raphson iteration.\n",
    "\n",
    "    Parameters\n",
    "    ----------\n",
    "    f : function(x: float) -> float\n",
    "        The function whose root is being found.\n",
    "    df : function(x: float) -> float\n",
    "        The derivative of f.\n",
    "    x_0 : float\n",
    "        The initial value of x in the iteration.\n",
    "    eps : float\n",
    "        The solver tolerance. Convergence is achieved when abs(f(x)) < eps.\n",
    "    max_its : int\n",
    "        The maximum number of iterations to be taken before the solver is taken\n",
    "        to have failed.\n",
    "\n",
    "    Returns\n",
    "    -------\n",
    "    float\n",
    "        The approximate root computed using Newton iteration.\n",
    "    \"\"\"\n",
    "    x = x_0\n",
    "    k = 1\n",
    "    while (abs(f(x))> eps) & (k <= max_its):\n",
    "        x = x - f(x) /df(x)\n",
    "        k += 1\n",
    "    if (k == max_its + 1) & (abs(f(x))> eps):\n",
    "        raise ConvergenceError(\"Max Iteration Reached\")\n",
    "    else:   \n",
    "        return x\n",
    "\n",
    "\n",
    "def bisection(f, x_0, x_1, eps, max_its):\n",
    "    \"\"\"Solve a nonlinear equation using bisection.\n",
    "\n",
    "    Solve f==0 using bisection starting with the interval [x_0, x_1]. f(x_0)\n",
    "    and f(x_1) must differ in sign.\n",
    "\n",
    "    Parameters\n",
    "    ----------\n",
    "    f : function(x: float) -> float\n",
    "        The function whose root is being found.\n",
    "    x_0 : float\n",
    "        The left end of the initial bisection interval.\n",
    "    x_1 : float\n",
    "        The right end of the initial bisection interval.\n",
    "    eps : float\n",
    "        The solver tolerance. Convergence is achieved when abs(f(x)) < eps.\n",
    "    max_its : int\n",
    "        The maximum number of iterations to be taken before the solver is taken\n",
    "        to have failed.\n",
    "\n",
    "    Returns\n",
    "    -------\n",
    "    float\n",
    "        The approximate root computed using bisection.\n",
    "    \"\"\"\n",
    "    k=1\n",
    "    a = x_0\n",
    "    b = x_1\n",
    "    c=(a+b)/2\n",
    "    if f(a)*f(b) > 0: \n",
    "        raise ValueError(\"Input are of the same sign\")\n",
    "    else:\n",
    "        while (abs(f(c))> eps) & (k <= max_its):\n",
    "            if (f(a)*f(c)>0):\n",
    "                a=c\n",
    "            else:\n",
    "                b=c\n",
    "            k += 1\n",
    "            c=(a+b)/2\n",
    "        if (k == max_its + 1) & (abs(f(c))> eps):\n",
    "            raise ConvergenceError(\"Max Iteration Reached\")\n",
    "        else:  \n",
    "            return c\n",
    "\n",
    "        \n",
    "def solve(f, df, x_0, x_1, eps, max_its_n, max_its_b):\n",
    "    \"\"\"Solve a nonlinear equation.\n",
    "\n",
    "    solve f(x) == 0 using Newton-Raphson iteration, falling back to bisection\n",
    "    if the former fails.\n",
    "\n",
    "    Parameters\n",
    "    ----------\n",
    "    f : function(x: float) -> float\n",
    "        The function whose root is being found.\n",
    "    df : function(x: float) -> float\n",
    "        The derivative of f.\n",
    "    x_0 : float\n",
    "        The initial value of x in the Newton-Raphson iteration, and left end of\n",
    "        the initial bisection interval.\n",
    "    x_1 : float\n",
    "        The right end of the initial bisection interval.\n",
    "    eps : float\n",
    "        The solver tolerance. Convergence is achieved when abs(f(x)) < eps.\n",
    "    max_its_n : int\n",
    "        The maximum number of iterations to be taken before the newton-raphson\n",
    "        solver is taken to have failed.\n",
    "    max_its_b : int\n",
    "        The maximum number of iterations to be taken before the newton-raphson\n",
    "        solver is taken to have failed.\n",
    "\n",
    "    Returns\n",
    "    -------\n",
    "    float\n",
    "        The approximate root.\n",
    "    \"\"\"\n",
    "    try:\n",
    "        print(\"Attempting division by Newton Raphson\")\n",
    "        return newton_raphson(f, df, x_0, eps, max_its_n)\n",
    "    except ConvergenceError:\n",
    "        print(\"Attempting division by Bisection\")\n",
    "        return bisection(f, x_0, x_1, eps, max_its_b)\n"
   ]
  },
  {
   "cell_type": "code",
   "execution_count": 228,
   "metadata": {},
   "outputs": [
    {
     "name": "stdout",
     "output_type": "stream",
     "text": [
      "Attempting division by Newton Raphson\n",
      "Attempting division by Bisection\n"
     ]
    },
    {
     "data": {
      "text/plain": [
       "0.7390899658203125"
      ]
     },
     "execution_count": 228,
     "metadata": {},
     "output_type": "execute_result"
    }
   ],
   "source": [
    "import numpy as np\n",
    "import numpy.testing as npt\n",
    "f = lambda x: np.cos(x) - x\n",
    "df = lambda x: -np.sin(x) - 1\n",
    "x_0 = 0\n",
    "x_1 = 1\n",
    "eps = 1e-5\n",
    "max_its_n = 3\n",
    "max_its_b = 100\n",
    "\n",
    "solve(f, df, x_0, x_1, eps, max_its_n, max_its_b)\n",
    "\n",
    "\n"
   ]
  },
  {
   "cell_type": "code",
   "execution_count": 207,
   "metadata": {},
   "outputs": [
    {
     "name": "stdout",
     "output_type": "stream",
     "text": [
      "Finishing up.\n"
     ]
    },
    {
     "ename": "ConvergenceError",
     "evalue": "Max Iteration Reached",
     "output_type": "error",
     "traceback": [
      "\u001b[1;31m---------------------------------------------------------------------------\u001b[0m",
      "\u001b[1;31mConvergenceError\u001b[0m                          Traceback (most recent call last)",
      "\u001b[1;32m<ipython-input-207-41f1e3600870>\u001b[0m in \u001b[0;36m<module>\u001b[1;34m\u001b[0m\n\u001b[0;32m      1\u001b[0m \u001b[1;32mtry\u001b[0m\u001b[1;33m:\u001b[0m\u001b[1;33m\u001b[0m\u001b[1;33m\u001b[0m\u001b[0m\n\u001b[1;32m----> 2\u001b[1;33m     \u001b[0mbisection\u001b[0m\u001b[1;33m(\u001b[0m\u001b[0mf\u001b[0m\u001b[1;33m,\u001b[0m \u001b[0mx_0\u001b[0m\u001b[1;33m,\u001b[0m \u001b[0mx_1\u001b[0m\u001b[1;33m,\u001b[0m \u001b[0meps\u001b[0m\u001b[1;33m,\u001b[0m \u001b[0mmax_its\u001b[0m\u001b[1;33m)\u001b[0m\u001b[1;33m\u001b[0m\u001b[1;33m\u001b[0m\u001b[0m\n\u001b[0m\u001b[0;32m      3\u001b[0m \u001b[1;32mexcept\u001b[0m \u001b[0mZeroDivisionError\u001b[0m\u001b[1;33m:\u001b[0m\u001b[1;33m\u001b[0m\u001b[1;33m\u001b[0m\u001b[0m\n\u001b[0;32m      4\u001b[0m     \u001b[0mprint\u001b[0m\u001b[1;33m(\u001b[0m\u001b[1;34m\"Zero division\"\u001b[0m\u001b[1;33m)\u001b[0m\u001b[1;33m\u001b[0m\u001b[1;33m\u001b[0m\u001b[0m\n\u001b[0;32m      5\u001b[0m \u001b[1;32mexcept\u001b[0m \u001b[0mTypeError\u001b[0m\u001b[1;33m:\u001b[0m\u001b[1;33m\u001b[0m\u001b[1;33m\u001b[0m\u001b[0m\n",
      "\u001b[1;32m<ipython-input-194-d6f012860fb5>\u001b[0m in \u001b[0;36mbisection\u001b[1;34m(f, x_0, x_1, eps, max_its)\u001b[0m\n\u001b[0;32m     81\u001b[0m             \u001b[0mc\u001b[0m\u001b[1;33m=\u001b[0m\u001b[1;33m(\u001b[0m\u001b[0ma\u001b[0m\u001b[1;33m+\u001b[0m\u001b[0mb\u001b[0m\u001b[1;33m)\u001b[0m\u001b[1;33m/\u001b[0m\u001b[1;36m2\u001b[0m\u001b[1;33m\u001b[0m\u001b[1;33m\u001b[0m\u001b[0m\n\u001b[0;32m     82\u001b[0m         \u001b[1;32mif\u001b[0m \u001b[1;33m(\u001b[0m\u001b[0mk\u001b[0m \u001b[1;33m==\u001b[0m \u001b[0mmax_its\u001b[0m \u001b[1;33m+\u001b[0m \u001b[1;36m1\u001b[0m\u001b[1;33m)\u001b[0m \u001b[1;33m&\u001b[0m \u001b[1;33m(\u001b[0m\u001b[0mabs\u001b[0m\u001b[1;33m(\u001b[0m\u001b[0mf\u001b[0m\u001b[1;33m(\u001b[0m\u001b[0mc\u001b[0m\u001b[1;33m)\u001b[0m\u001b[1;33m)\u001b[0m\u001b[1;33m>\u001b[0m \u001b[0meps\u001b[0m\u001b[1;33m)\u001b[0m\u001b[1;33m:\u001b[0m\u001b[1;33m\u001b[0m\u001b[1;33m\u001b[0m\u001b[0m\n\u001b[1;32m---> 83\u001b[1;33m             \u001b[1;32mraise\u001b[0m \u001b[0mConvergenceError\u001b[0m\u001b[1;33m(\u001b[0m\u001b[1;34m\"Max Iteration Reached\"\u001b[0m\u001b[1;33m)\u001b[0m\u001b[1;33m\u001b[0m\u001b[1;33m\u001b[0m\u001b[0m\n\u001b[0m\u001b[0;32m     84\u001b[0m         \u001b[1;32melse\u001b[0m\u001b[1;33m:\u001b[0m\u001b[1;33m\u001b[0m\u001b[1;33m\u001b[0m\u001b[0m\n\u001b[0;32m     85\u001b[0m             \u001b[1;32mreturn\u001b[0m \u001b[0mc\u001b[0m\u001b[1;33m\u001b[0m\u001b[1;33m\u001b[0m\u001b[0m\n",
      "\u001b[1;31mConvergenceError\u001b[0m: Max Iteration Reached"
     ]
    }
   ],
   "source": [
    "try:\n",
    "    print(\"Attempting division by Newton Raphson\")\n",
    "    newton_raphson(f, df, x_0, eps, max_its_n)\n",
    "except ConvergenceError:\n",
    "    print(\"Attempting division by Bisection\")\n",
    "    bisection(f, x_0, x_1, eps, max_its_b)"
   ]
  },
  {
   "cell_type": "code",
   "execution_count": 176,
   "metadata": {},
   "outputs": [
    {
     "ename": "IndentationError",
     "evalue": "unindent does not match any outer indentation level (<tokenize>, line 3)",
     "output_type": "error",
     "traceback": [
      "\u001b[1;36m  File \u001b[1;32m\"<tokenize>\"\u001b[1;36m, line \u001b[1;32m3\u001b[0m\n\u001b[1;33m    else  (abs(f(b))<TOL):\u001b[0m\n\u001b[1;37m    ^\u001b[0m\n\u001b[1;31mIndentationError\u001b[0m\u001b[1;31m:\u001b[0m unindent does not match any outer indentation level\n"
     ]
    }
   ],
   "source": [
    "if (abs(f(a))<TOL):\n",
    "        c=a;\n",
    "    else  (abs(f(b))<TOL):\n",
    "        c=b;\n",
    "    else (f(a)*f(b)>0):\n",
    "        disp('input of same sign')\n",
    "    else:\n",
    "        c=(a+b)/2\n",
    "        while (abs(f(x))> eps) & (k <= max_its):\n",
    "            if (f(a)*f(c)>0):\n",
    "                a=c;\n",
    "            else:\n",
    "                b=c;\n",
    "            k += 1\n",
    "            c=(a+b)/2"
   ]
  },
  {
   "cell_type": "code",
   "execution_count": null,
   "metadata": {},
   "outputs": [],
   "source": []
  }
 ],
 "metadata": {
  "kernelspec": {
   "display_name": "Python 3",
   "language": "python",
   "name": "python3"
  },
  "language_info": {
   "codemirror_mode": {
    "name": "ipython",
    "version": 3
   },
   "file_extension": ".py",
   "mimetype": "text/x-python",
   "name": "python",
   "nbconvert_exporter": "python",
   "pygments_lexer": "ipython3",
   "version": "3.8.5"
  }
 },
 "nbformat": 4,
 "nbformat_minor": 4
}
